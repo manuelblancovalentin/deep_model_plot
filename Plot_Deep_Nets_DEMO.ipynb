{
 "cells": [
  {
   "cell_type": "markdown",
   "metadata": {},
   "source": [
    "### DEMO: Using the custom Plot Deep Nets code to plot a sequential model defined using keras. "
   ]
  },
  {
   "cell_type": "markdown",
   "metadata": {},
   "source": [
    "#### Author: Manuel Blanco Valentín\n",
    "Created: Aug/2018"
   ]
  },
  {
   "cell_type": "code",
   "execution_count": 1,
   "metadata": {},
   "outputs": [
    {
     "name": "stderr",
     "output_type": "stream",
     "text": [
      "Using TensorFlow backend.\n"
     ]
    }
   ],
   "source": [
    "# First let's import the library where our custom function is\n",
    "from K_model_plot import _get_model_Svg"
   ]
  },
  {
   "cell_type": "code",
   "execution_count": 2,
   "metadata": {},
   "outputs": [],
   "source": [
    "# Now let's add some common libraries that we will use just to create our model and import\n",
    "# sample data, in order to make this demo more self-explanatory\n",
    "from keras.layers import Input,Dense,Conv2D,Flatten,Wrapper,concatenate,BatchNormalization,Activation,Dropout\n",
    "from keras.models import Model\n",
    "\n",
    "# Some sample models to test also\n",
    "from keras.applications import inception_v3, inception_resnet_v2\n",
    "\n",
    "# sample data we are going to use (though this wouldn't be required as we are not going to \n",
    "# train our model)\n",
    "from keras.datasets import mnist\n",
    "\n",
    "# common libraries for utilities\n",
    "from keras.utils import np_utils\n",
    "import numpy as np\n",
    "import matplotlib.pyplot as plt\n",
    "import cv2 # for image saving"
   ]
  },
  {
   "cell_type": "code",
   "execution_count": 3,
   "metadata": {},
   "outputs": [],
   "source": [
    "# Now we can import mnist data and normalize it\n",
    "(Xtrain,Ytrain),(Xtest,Ytest) = mnist.load_data()\n",
    "\n",
    "# normalize\n",
    "Xtrain = Xtrain/255\n",
    "Xtest = Xtest/255\n",
    "Ytrain = np_utils.to_categorical(Ytrain)\n",
    "Ytest = np_utils.to_categorical(Ytest)"
   ]
  },
  {
   "cell_type": "code",
   "execution_count": 7,
   "metadata": {},
   "outputs": [],
   "source": [
    "# Now let's create our model using keras. We will define two different models.\n",
    "# The first model is going to be a very simple one, so let's:\n",
    "\n",
    "# First let's define the shape of the inputs/outputs we are going to deal with\n",
    "ishape = Xtrain.shape[1:] + tuple([1])\n",
    "num_outputs = Ytest.shape[1]\n",
    "\n",
    "# input layer (with the same size as the input data)\n",
    "input = Input(shape=ishape)\n",
    "\n",
    "# Notice that specifying a convolutional layer with activation = 'relu' is equivalent to \n",
    "# specify a conv layer followed by an activation layer. We are just gonna use here the second\n",
    "# option because we want these internal (activation, batch normalization) tags to appear in the\n",
    "# graph.\n",
    "layer = Conv2D(filters=64,kernel_size=(5,5))(input)\n",
    "layer = Dropout(0.25)(layer)\n",
    "layer = Activation('relu')(layer)\n",
    "layer = BatchNormalization()(layer)\n",
    "layer = Conv2D(filters=128,kernel_size=(5,5))(layer)\n",
    "layer = Dropout(0.25)(layer)\n",
    "layer = Activation('relu')(layer)\n",
    "layer = BatchNormalization()(layer)\n",
    "layer = Conv2D(filters=256,kernel_size=(3,3))(layer)\n",
    "layer = Dropout(0.25)(layer)\n",
    "layer = Activation('relu')(layer)\n",
    "layer = BatchNormalization()(layer)\n",
    "\n",
    "# Now let's add a flatten and a dense tail\n",
    "layer = Flatten()(layer)\n",
    "layer = Dense(units=512)(layer)\n",
    "layer = Activation('relu')(layer)\n",
    "layer = Dropout(0.25)(layer)\n",
    "layer = Dense(units=256)(layer)\n",
    "layer = Activation('relu')(layer)\n",
    "layer = Dropout(0.25)(layer)\n",
    "layer = Dense(units=128)(layer)\n",
    "layer = Activation('relu')(layer)\n",
    "layer = Dropout(0.25)(layer)\n",
    "layer = Dense(units=64)(layer)\n",
    "layer = Activation('relu')(layer)\n",
    "layer = Dropout(0.25)(layer)\n",
    "layer = Dense(units=num_outputs, activation='softmax')(layer)\n",
    "\n",
    "model0 = Model(input,layer)\n",
    "\n",
    "# Now we can plot the model\n",
    "_get_model_Svg(model0,filename=\"model0\",display_shapes=True)"
   ]
  },
  {
   "cell_type": "code",
   "execution_count": 8,
   "metadata": {},
   "outputs": [],
   "source": [
    "# We can now create a new model, which will be the same (in practice) as model0, but without\n",
    "# making the activation and bnorm layers appear\n",
    "\n",
    "# input layer (with the same size as the input data)\n",
    "input = Input(shape=ishape)\n",
    "\n",
    "# Notice that specifying a convolutional layer with activation = 'relu' is equivalent to \n",
    "# specify a conv layer followed by an activation layer. We are just gonna use here the second\n",
    "# option because we want these internal (activation, batch normalization) tags to appear in the\n",
    "# graph.\n",
    "layer = Conv2D(filters=64,kernel_size=(5,5),activation='relu')(input)\n",
    "layer = Dropout(0.25)(layer)\n",
    "layer = Conv2D(filters=128,kernel_size=(5,5),activation='relu')(layer)\n",
    "layer = Dropout(0.25)(layer)\n",
    "layer = Conv2D(filters=256,kernel_size=(3,3),activation='relu')(layer)\n",
    "layer = Dropout(0.25)(layer)\n",
    "\n",
    "# Now let's add a flatten and a dense tail\n",
    "layer = Flatten()(layer)\n",
    "layer = Dense(units=512,activation='relu')(layer)\n",
    "layer = Dense(units=256,activation='relu')(layer)\n",
    "layer = Dense(units=128,activation='relu')(layer)\n",
    "layer = Dense(units=64,activation='relu')(layer)\n",
    "layer = Dense(units=num_outputs, activation='softmax')(layer)\n",
    "\n",
    "model1 = Model(input,layer)\n",
    "\n",
    "# Now we can plot the model\n",
    "_get_model_Svg(model1,filename=\"model1\",display_shapes=True)"
   ]
  },
  {
   "cell_type": "code",
   "execution_count": null,
   "metadata": {},
   "outputs": [],
   "source": []
  },
  {
   "cell_type": "code",
   "execution_count": null,
   "metadata": {},
   "outputs": [],
   "source": []
  },
  {
   "cell_type": "code",
   "execution_count": null,
   "metadata": {},
   "outputs": [],
   "source": []
  },
  {
   "cell_type": "code",
   "execution_count": null,
   "metadata": {},
   "outputs": [],
   "source": []
  }
 ],
 "metadata": {
  "kernelspec": {
   "display_name": "Python 2 (Spyder)",
   "language": "python2",
   "name": "python2"
  },
  "language_info": {
   "codemirror_mode": {
    "name": "ipython",
    "version": 2
   },
   "file_extension": ".py",
   "mimetype": "text/x-python",
   "name": "python",
   "nbconvert_exporter": "python",
   "pygments_lexer": "ipython2",
   "version": "2.7.14"
  }
 },
 "nbformat": 4,
 "nbformat_minor": 2
}
